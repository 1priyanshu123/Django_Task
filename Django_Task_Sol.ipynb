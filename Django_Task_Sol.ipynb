{
 "cells": [
  {
   "cell_type": "markdown",
   "id": "f98683ba",
   "metadata": {},
   "source": [
    "# Question 1: By default are django signals executed synchronously or asynchronously? Please support your answer with a code snippet that conclusively proves your stance. The code does not need to be elegant and production ready, we just need to understand your logic."
   ]
  },
  {
   "cell_type": "markdown",
   "id": "fa2e297f",
   "metadata": {},
   "source": [
    "\n",
    "By default, Django signals are executed synchronously. This means that when a signal is sent, all connected signal handlers are executed in the order they were connected, and the sender waits for them to finish before continuing. Here's a simple code snippet to demonstrate this behavior:"
   ]
  },
  {
   "cell_type": "code",
   "execution_count": null,
   "id": "3bb2a8fc",
   "metadata": {},
   "outputs": [],
   "source": [
    "from django.db import models\n",
    "from django.db.models.signals import post_save\n",
    "from django.dispatch import receiver\n",
    "from django.utils import timezone\n",
    "\n",
    "class MyModel(models.Model):\n",
    "    name = models.CharField(max_length=100)\n",
    "\n",
    "@receiver(post_save, sender=MyModel)\n",
    "def my_signal_handler(sender, instance, **kwargs):\n",
    "    print(\"Signal handler started at:\", timezone.now())\n",
    "    import time\n",
    "    time.sleep(5)\n",
    "    print(\"Signal handler finished at:\", timezone.now())\n",
    "\n",
    "m = MyModel(name=\"Test\")\n",
    "m.save()\n",
    "print(\"Model saved at:\", timezone.now())\n"
   ]
  },
  {
   "cell_type": "markdown",
   "id": "32d26971",
   "metadata": {},
   "source": [
    "# Question 2: Do django signals run in the same thread as the caller? Please support your answer with a code snippet that conclusively proves your stance. The code does not need to be elegant and production ready, we just need to understand your logic."
   ]
  },
  {
   "cell_type": "raw",
   "id": "9afc672f",
   "metadata": {},
   "source": [
    "No, Django signals do not necessarily run in the same thread as the caller. Django's default signal dispatcher executes signals synchronously, meaning the sender waits for signal handlers to complete, but it doesn't dictate that they run in the same thread."
   ]
  },
  {
   "cell_type": "code",
   "execution_count": null,
   "id": "4911260e",
   "metadata": {},
   "outputs": [],
   "source": [
    "from django.db import models\n",
    "from django.db.models.signals import post_save\n",
    "from django.dispatch import receiver\n",
    "from django.utils import timezone\n",
    "import threading\n",
    "\n",
    "class MyModel(models.Model):\n",
    "    name = models.CharField(max_length=100)\n",
    "\n",
    "@receiver(post_save, sender=MyModel)\n",
    "def my_signal_handler(sender, instance, **kwargs):\n",
    "    print(\"Signal handler running in thread:\", threading.current_thread().name)\n",
    "\n",
    "m = MyModel(name=\"Test\")\n",
    "m.save()\n",
    "print(\"Model saved in thread:\", threading.current_thread().name)\n"
   ]
  },
  {
   "cell_type": "markdown",
   "id": "be802121",
   "metadata": {},
   "source": [
    "# Question 3: By default do django signals run in the same database transaction as the caller? Please support your answer with a code snippet that conclusively proves your stance. The code does not need to be elegant and production ready, we just need to understand your logic."
   ]
  },
  {
   "cell_type": "markdown",
   "id": "7659f40a",
   "metadata": {},
   "source": [
    "Yes, by default, Django signals run in the same database transaction as the caller. This ensures that any changes made by the signal handlers are either committed or rolled back along with the changes made by the caller."
   ]
  },
  {
   "cell_type": "code",
   "execution_count": null,
   "id": "6cf672b2",
   "metadata": {},
   "outputs": [],
   "source": [
    "from django.db import models, transaction\n",
    "from django.db.models.signals import post_save\n",
    "from django.dispatch import receiver\n",
    "from django.utils import timezone\n",
    "\n",
    "class MyModel(models.Model):\n",
    "    name = models.CharField(max_length=100)\n",
    "\n",
    "@receiver(post_save, sender=MyModel)\n",
    "def my_signal_handler(sender, instance, **kwargs):\n",
    "    print(\"Signal handler running\")\n",
    "\n",
    "with transaction.atomic():\n",
    "    m = MyModel(name=\"Test\")\n",
    "    m.save()\n",
    "    print(\"Model saved\")\n",
    "\n",
    "print(\"Transaction committed\")\n"
   ]
  },
  {
   "cell_type": "markdown",
   "id": "f83bd297",
   "metadata": {},
   "source": [
    "Topic: Custom Classes in Python\n",
    "\n",
    "Description: You are tasked with creating a Rectangle class with the following requirements:\n",
    "\n",
    "1. An instance of the Rectangle class requires length: int and width: int to be initialized.\n",
    "\n",
    "2. We can iterate over an instance of the Rectangle class\n",
    "\n",
    "3. When an instance of the Rectangle class is iterated over, we first get its length in the format: {'length': <VALUE_OF_LENGTH>> followed by the width {width: <VALUE_OF_WIDTH>}"
   ]
  },
  {
   "cell_type": "code",
   "execution_count": null,
   "id": "705d60f2",
   "metadata": {},
   "outputs": [],
   "source": [
    "class Rectangle:\n",
    "    def __init__(self, length: int, width: int):\n",
    "        self.length = length\n",
    "        self.width = width\n",
    "\n",
    "    def __iter__(self):\n",
    "        return RectangleIterator(self)\n",
    "\n",
    "\n",
    "class RectangleIterator:\n",
    "    def __init__(self, rectangle: 'Rectangle'):\n",
    "        self.rectangle = rectangle\n",
    "        self.index = 0\n",
    "\n",
    "    def __iter__(self):\n",
    "        return self\n",
    "\n",
    "    def __next__(self):\n",
    "        if self.index == 0:\n",
    "            self.index += 1\n",
    "            return {'length': self.rectangle.length}\n",
    "        elif self.index == 1:\n",
    "            self.index += 1\n",
    "            return {'width': self.rectangle.width}\n",
    "        else:\n",
    "            raise StopIteration\n",
    "\n",
    "\n",
    "# Example usage:\n",
    "rect = Rectangle(10, 5)\n",
    "for item in rect:\n",
    "    print(item)"
   ]
  }
 ],
 "metadata": {
  "kernelspec": {
   "display_name": "Python 3 (ipykernel)",
   "language": "python",
   "name": "python3"
  },
  "language_info": {
   "codemirror_mode": {
    "name": "ipython",
    "version": 3
   },
   "file_extension": ".py",
   "mimetype": "text/x-python",
   "name": "python",
   "nbconvert_exporter": "python",
   "pygments_lexer": "ipython3",
   "version": "3.9.12"
  }
 },
 "nbformat": 4,
 "nbformat_minor": 5
}
